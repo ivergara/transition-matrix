{
 "cells": [
  {
   "cell_type": "markdown",
   "metadata": {},
   "source": [
    "# Transition matrix for a two state and two particles"
   ]
  },
  {
   "cell_type": "markdown",
   "metadata": {},
   "source": [
    "Let's do some imports"
   ]
  },
  {
   "cell_type": "code",
   "execution_count": 1,
   "metadata": {
    "collapsed": true
   },
   "outputs": [],
   "source": [
    "import numpy as np\n",
    "import itertools"
   ]
  },
  {
   "cell_type": "markdown",
   "metadata": {},
   "source": [
    "Now we define the states available"
   ]
  },
  {
   "cell_type": "code",
   "execution_count": 2,
   "metadata": {
    "collapsed": true
   },
   "outputs": [],
   "source": [
    "states = [[0,0],[1,0],[0,1],[1,1]]\n",
    "states = [np.array(state) for state in states]"
   ]
  },
  {
   "cell_type": "markdown",
   "metadata": {},
   "source": [
    "We can get all the combinations of the states as follows"
   ]
  },
  {
   "cell_type": "code",
   "execution_count": 3,
   "metadata": {},
   "outputs": [
    {
     "data": {
      "text/plain": [
       "[(array([0, 0]), array([1, 0])),\n",
       " (array([0, 0]), array([0, 1])),\n",
       " (array([0, 0]), array([1, 1])),\n",
       " (array([1, 0]), array([0, 1])),\n",
       " (array([1, 0]), array([1, 1])),\n",
       " (array([0, 1]), array([1, 1]))]"
      ]
     },
     "execution_count": 3,
     "metadata": {},
     "output_type": "execute_result"
    }
   ],
   "source": [
    "list(itertools.combinations(states,2))"
   ]
  },
  {
   "cell_type": "markdown",
   "metadata": {},
   "source": [
    "Perform an XOR between the states which is equivalent to a hop process"
   ]
  },
  {
   "cell_type": "code",
   "execution_count": 4,
   "metadata": {},
   "outputs": [
    {
     "name": "stdout",
     "output_type": "stream",
     "text": [
      "Left state [0 0], right state [1 0], XOR result [1 0]\n",
      "Left state [0 0], right state [0 1], XOR result [0 1]\n",
      "Left state [0 0], right state [1 1], XOR result [1 1]\n",
      "Left state [1 0], right state [0 1], XOR result [1 1]\n",
      "Left state [1 0], right state [1 1], XOR result [0 1]\n",
      "Left state [0 1], right state [1 1], XOR result [1 0]\n"
     ]
    }
   ],
   "source": [
    "for pair in itertools.combinations(states,2):\n",
    "    xor = np.logical_xor(*pair).astype(int)\n",
    "    print(f\"Left state {pair[0]}, right state {pair[1]}, XOR result {xor}\")"
   ]
  },
  {
   "cell_type": "markdown",
   "metadata": {},
   "source": [
    "Let's define a helper function to determine if a transition is allowed. Basically, in this problem, the process has to conserve particle number in the sense that a hop only involves one electron."
   ]
  },
  {
   "cell_type": "code",
   "execution_count": 5,
   "metadata": {
    "collapsed": true
   },
   "outputs": [],
   "source": [
    "def allowed(jump):\n",
    "    if np.sum(jump) != 1:\n",
    "        return 0\n",
    "    return 1"
   ]
  },
  {
   "cell_type": "code",
   "execution_count": 6,
   "metadata": {},
   "outputs": [
    {
     "name": "stdout",
     "output_type": "stream",
     "text": [
      "Left state [0 0], right state [1 0]: allowed True\n",
      "Left state [0 0], right state [0 1]: allowed True\n",
      "Left state [0 0], right state [1 1]: allowed False\n",
      "Left state [1 0], right state [0 1]: allowed False\n",
      "Left state [1 0], right state [1 1]: allowed True\n",
      "Left state [0 1], right state [1 1]: allowed True\n"
     ]
    }
   ],
   "source": [
    "for pair in itertools.combinations(states,2):\n",
    "    xor = np.logical_xor(*pair).astype(int)\n",
    "    print(f\"Left state {pair[0]}, right state {pair[1]}: allowed {bool(allowed(xor))}\")"
   ]
  },
  {
   "cell_type": "markdown",
   "metadata": {},
   "source": [
    "Now, building the matrix by calculating the combinations and then adding the transpose to have a symmetric matrix."
   ]
  },
  {
   "cell_type": "code",
   "execution_count": 7,
   "metadata": {},
   "outputs": [],
   "source": [
    "matrix = np.zeros((4,4))\n",
    "for i in range(len(states)):\n",
    "    for j in range(i):\n",
    "        matrix[i][j] = allowed(np.logical_xor(states[i], states[j]).astype(int))"
   ]
  },
  {
   "cell_type": "code",
   "execution_count": 8,
   "metadata": {},
   "outputs": [
    {
     "data": {
      "text/plain": [
       "array([[ 0.,  1.,  1.,  0.],\n",
       "       [ 1.,  0.,  0.,  1.],\n",
       "       [ 1.,  0.,  0.,  1.],\n",
       "       [ 0.,  1.,  1.,  0.]])"
      ]
     },
     "execution_count": 8,
     "metadata": {},
     "output_type": "execute_result"
    }
   ],
   "source": [
    "matrix+matrix.T"
   ]
  }
 ],
 "metadata": {
  "kernelspec": {
   "display_name": "Python 3",
   "language": "python",
   "name": "python3"
  },
  "language_info": {
   "codemirror_mode": {
    "name": "ipython",
    "version": 3
   },
   "file_extension": ".py",
   "mimetype": "text/x-python",
   "name": "python",
   "nbconvert_exporter": "python",
   "pygments_lexer": "ipython3",
   "version": "3.6.1"
  }
 },
 "nbformat": 4,
 "nbformat_minor": 2
}
